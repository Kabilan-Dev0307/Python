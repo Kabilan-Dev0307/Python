{
 "cells": [
  {
   "cell_type": "code",
   "execution_count": 2,
   "metadata": {},
   "outputs": [],
   "source": [
    "# Create a class and function, and list out the items in the list\n",
    "class SubfieldsInAI:\n",
    "    def Subfields():\n",
    "        print(\"Sub-fields in AI are:\")\n",
    "        print(\"Machine Learning\")\n",
    "        print(\"Neural Networks\")\n",
    "        print(\"Vision\")\n",
    "        print(\"Robotics\")\n",
    "        print(\"Speech Processing\")\n",
    "        print(\"Natural Language Processing\")"
   ]
  },
  {
   "cell_type": "code",
   "execution_count": 3,
   "metadata": {},
   "outputs": [
    {
     "name": "stdout",
     "output_type": "stream",
     "text": [
      "Sub-fields in AI are:\n",
      "Machine Learning\n",
      "Neural Networks\n",
      "Vision\n",
      "Robotics\n",
      "Speech Processing\n",
      "Natural Language Processing\n"
     ]
    }
   ],
   "source": [
    "SubfieldsInAI.Subfields()"
   ]
  },
  {
   "cell_type": "code",
   "execution_count": 4,
   "metadata": {},
   "outputs": [],
   "source": [
    "# Create a function that checks whether the given number is Odd or Even\n",
    "class oddEven:\n",
    "    def oddEven():\n",
    "        num = int(input(\"Enter a number: \"))\n",
    "        if int(num) % 2 == 0:\n",
    "            print(num, \"is Even number\")\n",
    "        else:\n",
    "            print(num, \"is Odd number\")"
   ]
  },
  {
   "cell_type": "code",
   "execution_count": 5,
   "metadata": {},
   "outputs": [
    {
     "name": "stdout",
     "output_type": "stream",
     "text": [
      "52452 is Even number\n"
     ]
    }
   ],
   "source": [
    "oddEven.oddEven()"
   ]
  },
  {
   "cell_type": "code",
   "execution_count": 11,
   "metadata": {},
   "outputs": [],
   "source": [
    "# Create a function that tells elegibility of marriage for male and female according to their age limit like 21 for male and 18 for female\n",
    "class ElegiblityForMarriage:\n",
    "    def Elegibility():\n",
    "        gender = input(\"Enter Gender: \")\n",
    "        age = int(input(\"Enter age: \"))\n",
    "        if age >= 21:\n",
    "            print(\"Your Gender\", gender)\n",
    "            print(\"Your Age\", age)\n",
    "            print(\"ELIGIBLE FOR MARRIAGE\")\n",
    "        else:\n",
    "            print(\"Your Gender\", gender)\n",
    "            print(\"Your Age\", age)\n",
    "            print(\"NOT ELIGIBLE FOR MARRIAGE\")"
   ]
  },
  {
   "cell_type": "code",
   "execution_count": 12,
   "metadata": {},
   "outputs": [
    {
     "name": "stdout",
     "output_type": "stream",
     "text": [
      "Your Gender Male\n",
      "Your Age 20\n",
      "NOT ELIGIBLE FOR MARRIAGE\n"
     ]
    }
   ],
   "source": [
    "ElegiblityForMarriage.Elegibility()"
   ]
  },
  {
   "cell_type": "code",
   "execution_count": 13,
   "metadata": {},
   "outputs": [],
   "source": [
    "# calculate the percentage of your 10th mark\n",
    "class FindPercent:\n",
    "    def Percentage():\n",
    "        sub1 = int(input(\"Enter Subject1 mark=\"))\n",
    "        sub2 = int(input(\"Enter Subject2 mark=\"))\n",
    "        sub3 = int(input(\"Enter Subject3 mark=\"))\n",
    "        sub4 = int(input(\"Enter Subject4 mark=\"))\n",
    "        sub5 = int(input(\"Enter Subject5 mark=\"))\n",
    "        total_marks = 500\n",
    "        marks = sub1 + sub2 + sub3 + sub4 + sub5\n",
    "        percentage = (marks / total_marks) * 100    \n",
    "        print(\"Subject1 =\", sub1)\n",
    "        print(\"Subject2 =\", sub2)\n",
    "        print(\"Subject3 =\", sub3)\n",
    "        print(\"Subject4 =\", sub4)\n",
    "        print(\"Subject5 =\", sub5)\n",
    "        print(\"Total : \", marks)   \n",
    "        print(\"Percentage : \", percentage)"
   ]
  },
  {
   "cell_type": "code",
   "execution_count": 14,
   "metadata": {},
   "outputs": [
    {
     "name": "stdout",
     "output_type": "stream",
     "text": [
      "Subject1 = 98\n",
      "Subject2 = 87\n",
      "Subject3 = 95\n",
      "Subject4 = 95\n",
      "Subject5 = 93\n",
      "Total :  468\n",
      "Percentage :  93.60000000000001\n"
     ]
    }
   ],
   "source": [
    "FindPercent.Percentage()"
   ]
  },
  {
   "cell_type": "code",
   "execution_count": 16,
   "metadata": {},
   "outputs": [],
   "source": [
    "#print area and perimeter of triangle using class and functions\n",
    "class Triangle:\n",
    "    def Triangle():\n",
    "        base = float(input(\"Enter the base of the triangle: \"))\n",
    "        height = float(input(\"Enter the height of the triangle: \"))\n",
    "        side1 = float(input(\"Enter the first side of the triangle: \"))\n",
    "        side2 = float(input(\"Enter the second side of the triangle: \"))\n",
    "        side3 = float(input(\"Enter the third side of the triangle: \"))\n",
    "        \n",
    "        area = 0.5 * base * height\n",
    "        perimeter = side1 + side2 + side3\n",
    "        \n",
    "        print(\"Breadth : \", base)\n",
    "        print(\"Height : \", height)    \n",
    "        print(\"Area formula: (Height*Breadth)/2\")\n",
    "        print(\"Area of the triangle:\", area)\n",
    "        print(\"Height1 : \", side1)\n",
    "        print(\"Height2 : \", side2)\n",
    "        print(\"Breadth : \", side3)\n",
    "        print(\"Perimeter formula: Height1+Height2+Breadth\")\n",
    "        print(\"Perimeter of the triangle:\", perimeter)"
   ]
  },
  {
   "cell_type": "code",
   "execution_count": 17,
   "metadata": {},
   "outputs": [
    {
     "name": "stdout",
     "output_type": "stream",
     "text": [
      "Breadth :  32.0\n",
      "Height :  34.0\n",
      "Area formula: (Height*Breadth)/2\n",
      "Area of the triangle: 544.0\n",
      "Height1 :  2.0\n",
      "Height2 :  4.0\n",
      "Breadth :  4.0\n",
      "Perimeter formula: Height1+Height2+Breadth\n",
      "Perimeter of the triangle: 10.0\n"
     ]
    }
   ],
   "source": [
    "Triangle.Triangle()"
   ]
  }
 ],
 "metadata": {
  "kernelspec": {
   "display_name": "Python 3",
   "language": "python",
   "name": "python3"
  },
  "language_info": {
   "codemirror_mode": {
    "name": "ipython",
    "version": 3
   },
   "file_extension": ".py",
   "mimetype": "text/x-python",
   "name": "python",
   "nbconvert_exporter": "python",
   "pygments_lexer": "ipython3",
   "version": "3.10.3"
  }
 },
 "nbformat": 4,
 "nbformat_minor": 2
}
