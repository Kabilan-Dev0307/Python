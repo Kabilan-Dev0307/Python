{
 "cells": [
  {
   "cell_type": "code",
   "execution_count": 2,
   "metadata": {},
   "outputs": [
    {
     "name": "stdout",
     "output_type": "stream",
     "text": [
      "Welcome to Assignement-1\n"
     ]
    }
   ],
   "source": [
    "print (\"Welcome to Assignement-1\")"
   ]
  },
  {
   "cell_type": "code",
   "execution_count": 3,
   "metadata": {},
   "outputs": [
    {
     "name": "stdout",
     "output_type": "stream",
     "text": [
      "Num1 = 10\n",
      "Num2 = 40\n",
      "Addition of Num1 and Num2 is = 50\n"
     ]
    }
   ],
   "source": [
    "Num1 = 10\n",
    "Num2 = 40\n",
    "Add = Num1 + Num2\n",
    "print(\"Num1 =\", Num1)\n",
    "print(\"Num2 =\", Num2)\n",
    "print(\"Addition of Num1 and Num2 is =\", Add)"
   ]
  },
  {
   "cell_type": "code",
   "execution_count": 4,
   "metadata": {},
   "outputs": [
    {
     "name": "stdout",
     "output_type": "stream",
     "text": [
      "You are healthy\n"
     ]
    }
   ],
   "source": [
    "#Body Mass Index\n",
    "BMI = int(input(\"Enter the BMI Index:\"))\n",
    "if BMI < 18:\n",
    "    print(\"You are underweight\")\n",
    "elif 18 <= BMI < 25:\n",
    "    print(\"You are healthy\")\n",
    "elif 25 <= BMI < 30:\n",
    "    print(\"You are overweight\")\n",
    "else:\n",
    "    print(\"You are obese\")"
   ]
  }
 ],
 "metadata": {
  "kernelspec": {
   "display_name": "Python 3",
   "language": "python",
   "name": "python3"
  },
  "language_info": {
   "codemirror_mode": {
    "name": "ipython",
    "version": 3
   },
   "file_extension": ".py",
   "mimetype": "text/x-python",
   "name": "python",
   "nbconvert_exporter": "python",
   "pygments_lexer": "ipython3",
   "version": "3.10.3"
  }
 },
 "nbformat": 4,
 "nbformat_minor": 2
}
